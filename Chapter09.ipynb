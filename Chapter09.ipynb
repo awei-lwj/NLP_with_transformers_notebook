{
  "nbformat": 4,
  "nbformat_minor": 0,
  "metadata": {
    "colab": {
      "private_outputs": true,
      "provenance": []
    },
    "kernelspec": {
      "name": "python3",
      "display_name": "Python 3"
    },
    "language_info": {
      "name": "python"
    }
  },
  "cells": [
    {
      "cell_type": "code",
      "execution_count": null,
      "metadata": {
        "id": "lUBaOCoPJ8U6"
      },
      "outputs": [],
      "source": []
    },
    {
      "cell_type": "markdown",
      "source": [
        "注意就是用Scikit-multilearn的iterative_train_test_split()函数，它可以迭代地创建训练/测试分割以实现平衡标签。需要进行增加多一个维度\n"
      ],
      "metadata": {
        "id": "d32ALj7eKDbO"
      }
    },
    {
      "cell_type": "code",
      "source": [
        "import torch\n",
        "from transformers import AutoTokenizer, AutoModel\n",
        "model_ckpt = \"miguelvictor/python-gpt2-large\"\n",
        "tokenizer = AutoTokenizer.from_pretrained(model_ckpt)\n",
        "model = AutoModel.from_pretrained(model_ckpt)\n",
        "def mean_pooling(model_output, attention_mask):\n",
        "\t# Extract the token embeddings\n",
        "\ttoken_embeddings = model_output[0]\n",
        "\t# Compute the attention mask\n",
        "\tinput_mask_expanded = (attention_mask .unsqueeze(-1) .expand(token_embeddings.size()) .float())\n",
        "\t# Sum the embeddings, but ignore masked tokens\n",
        "\tsum_embeddings = torch.sum(token_embeddings * input_mask_expanded, 1)\n",
        "\tsum_mask = torch.clamp(input_mask_expanded.sum(1), min=1e-9)\n",
        "\t# Return the average as a single vector\n",
        "\treturn sum_embeddings / sum_mask\n",
        "def embed_text(examples):\n",
        "\tinputs = tokenizer(examples[\"text\"], padding=True, truncation=True, max_length=128, return_tensors=\"pt\")\n",
        "\twith torch.no_grad():\n",
        "\t\tmodel_output = model(**inputs)\n",
        "\tpooled_embeds = mean_pooling(model_output, inputs[\"attention_mask\"])\n",
        "\treturn {\"embedding\": pooled_embeds.cpu().numpy()}\n"
      ],
      "metadata": {
        "id": "IWCAYtdzKMw9"
      },
      "execution_count": null,
      "outputs": []
    }
  ]
}